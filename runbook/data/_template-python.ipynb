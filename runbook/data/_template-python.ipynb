{
 "cells": [
  {
   "cell_type": "markdown",
   "id": "e368013b",
   "metadata": {
    "editable": true,
    "slideshow": {
     "slide_type": ""
    },
    "tags": []
   },
   "source": [
    "# TITLE\n",
    "\n",
    "## Description"
   ]
  },
  {
   "cell_type": "markdown",
   "id": "30d9dcb9",
   "metadata": {
    "editable": true,
    "slideshow": {
     "slide_type": ""
    },
    "tags": []
   },
   "source": [
    "## Setup"
   ]
  },
  {
   "cell_type": "code",
   "execution_count": null,
   "id": "19ef6903-2fcd-4bdf-935e-92ce2940b277",
   "metadata": {
    "tags": [
     "parameters"
    ]
   },
   "outputs": [],
   "source": [
    "# PARAMETERS DEFAULTS\n",
    "dry_run = True  # controls sh behavior for safety\n",
    "an_array: List[str] = [\"a\", \"b\"]  # array of strings"
   ]
  },
  {
   "cell_type": "code",
   "execution_count": null,
   "id": "a1db85d5-89a4-4721-837c-2f17f55581eb",
   "metadata": {
    "editable": true,
    "slideshow": {
     "slide_type": ""
    },
    "tags": []
   },
   "outputs": [],
   "source": [
    "# SHELL HELPERS\n",
    "from runbook.shell import confirm, gather, shell_builder, style\n",
    "\n",
    "sh = shell_builder(\n",
    "    dry_run, tags_default={\"environment\": \"testing\"}, confirm_default=True\n",
    ")"
   ]
  },
  {
   "cell_type": "code",
   "execution_count": null,
   "id": "b60b6e71-13da-40d3-9a74-016f75fbaf46",
   "metadata": {
    "editable": true,
    "slideshow": {
     "slide_type": ""
    },
    "tags": []
   },
   "outputs": [],
   "source": [
    "# Widgets\n",
    "import ipywidgets as widgets\n",
    "from IPython.display import display\n",
    "\n",
    "w = widgets.Dropdown(\n",
    "    options=[(\"Production\", 1), (\"Staging\", 2), (\"Development\", 3)],\n",
    "    value=3,\n",
    "    description=\"Environment:\",\n",
    ")\n",
    "\n",
    "v = widgets.Dropdown(\n",
    "    options=[\"Mysql\", \"Redis\", \"Memcached\"],\n",
    "    value=\"Redis\",\n",
    "    description=\"Database:\",\n",
    ")\n",
    "display(w)\n",
    "display(v)"
   ]
  },
  {
   "cell_type": "code",
   "execution_count": null,
   "id": "79b18076-340f-42d3-a021-96a661de7e3a",
   "metadata": {},
   "outputs": [],
   "source": [
    "print(f\"Value of widget: {w.value} {v.value}\")"
   ]
  },
  {
   "cell_type": "markdown",
   "id": "f7610298",
   "metadata": {
    "editable": true,
    "slideshow": {
     "slide_type": ""
    },
    "tags": []
   },
   "source": [
    "## Operation"
   ]
  },
  {
   "cell_type": "markdown",
   "id": "adf2dc3c",
   "metadata": {},
   "source": [
    "### Step 1 - Get git info"
   ]
  },
  {
   "cell_type": "code",
   "execution_count": null,
   "id": "6ee12661-62b8-43b7-b557-2acc9a346d84",
   "metadata": {},
   "outputs": [],
   "source": [
    "output = await sh(\"git --version && echo 333 >&2\", confirm=True)"
   ]
  },
  {
   "cell_type": "markdown",
   "id": "82c90614",
   "metadata": {
    "editable": true,
    "slideshow": {
     "slide_type": ""
    },
    "tags": []
   },
   "source": [
    "### Step 2 - Print"
   ]
  },
  {
   "cell_type": "code",
   "execution_count": null,
   "id": "5c94548f-2197-4de7-b72c-b1feb29bc18c",
   "metadata": {},
   "outputs": [],
   "source": [
    "print(output)"
   ]
  },
  {
   "cell_type": "markdown",
   "id": "f0e9eade",
   "metadata": {},
   "source": [
    "<span style='color: red;'><bold>DANGER</bold></span> <span style='color: red;'><bold>DANGER</bold></span> <span style='color: red;'><bold>DANGER</bold></span> The following code is going to be risky. Be prepared with rollback procedures."
   ]
  },
  {
   "cell_type": "code",
   "execution_count": null,
   "id": "0add2816-a9cb-410c-83f3-a4aad6aaff5f",
   "metadata": {},
   "outputs": [],
   "source": [
    "confirm(style(\"Danger, ready to proceed?\", fg=\"red\", bold=True), abort=True)\n",
    "cmds = [sh(\"sleep 1; echo 1\"), sh(\"sleep 2; echo 2\"), sh(\"sleep 3; echo 3\")]"
   ]
  },
  {
   "cell_type": "code",
   "execution_count": null,
   "id": "ef525b6d-2059-412e-a0cb-c1e908ca54c7",
   "metadata": {},
   "outputs": [],
   "source": [
    "result = await gather(*cmds)"
   ]
  },
  {
   "cell_type": "markdown",
   "id": "74d941f2",
   "metadata": {},
   "source": [
    "## Cleanup"
   ]
  },
  {
   "cell_type": "markdown",
   "id": "d5b16dbe",
   "metadata": {
    "editable": true,
    "slideshow": {
     "slide_type": ""
    },
    "tags": []
   },
   "source": [
    "## Rollback"
   ]
  },
  {
   "cell_type": "markdown",
   "id": "3e3784fc-e073-49a3-a17d-c5f8273394b0",
   "metadata": {
    "editable": true,
    "slideshow": {
     "slide_type": ""
    },
    "tags": []
   },
   "source": [
    "## Action Items / Learnings"
   ]
  },
  {
   "cell_type": "code",
   "execution_count": null,
   "id": "ad7ed51f-7e0f-4c7d-95b3-c73ecdeaa3a8",
   "metadata": {
    "editable": true,
    "slideshow": {
     "slide_type": ""
    },
    "tags": []
   },
   "outputs": [],
   "source": []
  }
 ],
 "metadata": {
  "kernelspec": {
   "display_name": "Python 3 (ipykernel)",
   "language": "python",
   "name": "python3"
  },
  "language_info": {
   "codemirror_mode": {
    "name": "ipython",
    "version": 3
   },
   "file_extension": ".py",
   "mimetype": "text/x-python",
   "name": "python",
   "nbconvert_exporter": "python",
   "pygments_lexer": "ipython3",
   "version": "3.11.7"
  },
  "widgets": {
   "application/vnd.jupyter.widget-state+json": {
    "state": {},
    "version_major": 2,
    "version_minor": 0
   }
  }
 },
 "nbformat": 4,
 "nbformat_minor": 5
}
