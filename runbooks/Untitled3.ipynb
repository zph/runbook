{
 "cells": [
  {
   "cell_type": "code",
   "execution_count": 1,
   "id": "19ef6903-2fcd-4bdf-935e-92ce2940b277",
   "metadata": {
    "editable": true,
    "execution": {
     "iopub.execute_input": "2024-01-17T21:49:09.671777Z",
     "iopub.status.busy": "2024-01-17T21:49:09.670587Z",
     "iopub.status.idle": "2024-01-17T21:49:09.677321Z",
     "shell.execute_reply": "2024-01-17T21:49:09.676648Z",
     "shell.execute_reply.started": "2024-01-17T21:49:09.671724Z"
    },
    "slideshow": {
     "slide_type": ""
    },
    "tags": [
     "parameters"
    ]
   },
   "outputs": [],
   "source": [
    "# PARAMETERS DEFAULTS\n",
    "dry_run = False"
   ]
  },
  {
   "cell_type": "code",
   "execution_count": 7,
   "id": "a1db85d5-89a4-4721-837c-2f17f55581eb",
   "metadata": {
    "editable": true,
    "execution": {
     "iopub.execute_input": "2024-01-17T21:49:41.067445Z",
     "iopub.status.busy": "2024-01-17T21:49:41.067030Z",
     "iopub.status.idle": "2024-01-17T21:49:41.073463Z",
     "shell.execute_reply": "2024-01-17T21:49:41.070964Z",
     "shell.execute_reply.started": "2024-01-17T21:49:41.067421Z"
    },
    "slideshow": {
     "slide_type": ""
    },
    "tags": []
   },
   "outputs": [],
   "source": [
    "# SHELL HELPERS\n",
    "from runbook.shell import shell, gather, Q, shell_builder\n",
    "\n",
    "sh = shell_builder(dry_run)\n",
    "\n",
    "from functools import partial\n",
    "sh = partial(sh, tags_default={'environment': 'testing'})"
   ]
  },
  {
   "cell_type": "code",
   "execution_count": 8,
   "id": "6ee12661-62b8-43b7-b557-2acc9a346d84",
   "metadata": {
    "editable": true,
    "execution": {
     "iopub.execute_input": "2024-01-17T21:49:43.083321Z",
     "iopub.status.busy": "2024-01-17T21:49:43.082473Z",
     "iopub.status.idle": "2024-01-17T21:49:43.115838Z",
     "shell.execute_reply": "2024-01-17T21:49:43.114815Z",
     "shell.execute_reply.started": "2024-01-17T21:49:43.083270Z"
    },
    "slideshow": {
     "slide_type": ""
    },
    "tags": []
   },
   "outputs": [
    {
     "name": "stdout",
     "output_type": "stream",
     "text": [
      "$ git --version && echo 333 >&2\n"
     ]
    }
   ],
   "source": [
    "output = await ssh(\"git --version && echo 333 >&2\", {'environment': 'production'})"
   ]
  },
  {
   "cell_type": "code",
   "execution_count": 9,
   "id": "5c94548f-2197-4de7-b72c-b1feb29bc18c",
   "metadata": {
    "editable": true,
    "execution": {
     "iopub.execute_input": "2024-01-17T21:49:44.382857Z",
     "iopub.status.busy": "2024-01-17T21:49:44.382289Z",
     "iopub.status.idle": "2024-01-17T21:49:44.388274Z",
     "shell.execute_reply": "2024-01-17T21:49:44.387623Z",
     "shell.execute_reply.started": "2024-01-17T21:49:44.382820Z"
    },
    "slideshow": {
     "slide_type": ""
    },
    "tags": []
   },
   "outputs": [
    {
     "name": "stdout",
     "output_type": "stream",
     "text": [
      "ShellProcess({'command': 'git --version && echo 333 >&2', 'stdout': 'git version 2.38.1', 'stderr': '333\\n', 'stdin': None, 'pid': 35147, 'dry_run': False, 'tags': {'environment': 'production', 'default': 2, 'other': 1}})\n"
     ]
    }
   ],
   "source": [
    "print(output)"
   ]
  },
  {
   "cell_type": "code",
   "execution_count": 6,
   "id": "0add2816-a9cb-410c-83f3-a4aad6aaff5f",
   "metadata": {
    "execution": {
     "iopub.execute_input": "2024-01-17T21:38:13.319375Z",
     "iopub.status.busy": "2024-01-17T21:38:13.318149Z",
     "iopub.status.idle": "2024-01-17T21:38:13.326697Z",
     "shell.execute_reply": "2024-01-17T21:38:13.326000Z",
     "shell.execute_reply.started": "2024-01-17T21:38:13.319321Z"
    }
   },
   "outputs": [],
   "source": [
    "cmds = [sh(\"sleep 1; echo 1\\n\\n\"), sh(\"sleep 2; echo 2\"), sh(\"sleep 3; echo 3\")]"
   ]
  },
  {
   "cell_type": "code",
   "execution_count": 7,
   "id": "ef525b6d-2059-412e-a0cb-c1e908ca54c7",
   "metadata": {
    "execution": {
     "iopub.execute_input": "2024-01-17T21:38:14.924472Z",
     "iopub.status.busy": "2024-01-17T21:38:14.924000Z",
     "iopub.status.idle": "2024-01-17T21:38:17.964608Z",
     "shell.execute_reply": "2024-01-17T21:38:17.962817Z",
     "shell.execute_reply.started": "2024-01-17T21:38:14.924445Z"
    }
   },
   "outputs": [
    {
     "name": "stdout",
     "output_type": "stream",
     "text": [
      "$ sleep 1; echo 1\n",
      "\n",
      "\n",
      "$ sleep 2; echo 2\n",
      "$ sleep 3; echo 3\n"
     ]
    }
   ],
   "source": [
    "result = await gather(*cmds)"
   ]
  },
  {
   "cell_type": "code",
   "execution_count": 8,
   "id": "e69e5916-6aa5-4f0b-bbda-fae5580f7ff3",
   "metadata": {
    "execution": {
     "iopub.execute_input": "2024-01-17T21:38:17.978482Z",
     "iopub.status.busy": "2024-01-17T21:38:17.969339Z",
     "iopub.status.idle": "2024-01-17T21:38:17.986046Z",
     "shell.execute_reply": "2024-01-17T21:38:17.985480Z",
     "shell.execute_reply.started": "2024-01-17T21:38:17.978439Z"
    }
   },
   "outputs": [
    {
     "data": {
      "text/plain": [
       "[ShellProcess({'command': 'sleep 1; echo 1\\n\\n', 'stdout': '1', 'stderr': '', 'stdin': None, 'pid': 33881, 'dry_run': False, 'tags': {}}),\n",
       " ShellProcess({'command': 'sleep 2; echo 2', 'stdout': '2', 'stderr': '', 'stdin': None, 'pid': 33882, 'dry_run': False, 'tags': {}}),\n",
       " ShellProcess({'command': 'sleep 3; echo 3', 'stdout': '3', 'stderr': '', 'stdin': None, 'pid': 33883, 'dry_run': False, 'tags': {}})]"
      ]
     },
     "execution_count": 8,
     "metadata": {},
     "output_type": "execute_result"
    }
   ],
   "source": [
    "result"
   ]
  },
  {
   "cell_type": "code",
   "execution_count": null,
   "id": "add6d7a4-f005-43cf-8b03-8d39b31ddd0b",
   "metadata": {},
   "outputs": [],
   "source": []
  }
 ],
 "metadata": {
  "kernelspec": {
   "display_name": "Python 3 (ipykernel)",
   "language": "python",
   "name": "python3"
  },
  "language_info": {
   "codemirror_mode": {
    "name": "ipython",
    "version": 3
   },
   "file_extension": ".py",
   "mimetype": "text/x-python",
   "name": "python",
   "nbconvert_exporter": "python",
   "pygments_lexer": "ipython3",
   "version": "3.12.1"
  },
  "widgets": {
   "application/vnd.jupyter.widget-state+json": {
    "state": {},
    "version_major": 2,
    "version_minor": 0
   }
  }
 },
 "nbformat": 4,
 "nbformat_minor": 5
}
