{
 "cells": [
  {
   "cell_type": "markdown",
   "id": "e368013b",
   "metadata": {
    "editable": true,
    "slideshow": {
     "slide_type": ""
    },
    "tags": []
   },
   "source": [
    "# TITLE\n",
    "## Description"
   ]
  },
  {
   "cell_type": "markdown",
   "id": "30d9dcb9",
   "metadata": {
    "editable": true,
    "slideshow": {
     "slide_type": ""
    },
    "tags": []
   },
   "source": [
    "## Setup"
   ]
  },
  {
   "cell_type": "code",
   "execution_count": 1,
   "id": "19ef6903-2fcd-4bdf-935e-92ce2940b277",
   "metadata": {
    "execution": {
     "iopub.execute_input": "2024-01-28T20:26:17.706981Z",
     "iopub.status.busy": "2024-01-28T20:26:17.706280Z",
     "iopub.status.idle": "2024-01-28T20:26:17.713091Z",
     "shell.execute_reply": "2024-01-28T20:26:17.712337Z",
     "shell.execute_reply.started": "2024-01-28T20:26:17.706945Z"
    },
    "tags": [
     "parameters"
    ]
   },
   "outputs": [],
   "source": [
    "# PARAMETERS DEFAULTS\n",
    "dry_run = True  # controls sh behavior for safety"
   ]
  },
  {
   "cell_type": "code",
   "execution_count": 2,
   "id": "a1db85d5-89a4-4721-837c-2f17f55581eb",
   "metadata": {
    "editable": true,
    "slideshow": {
     "slide_type": ""
    },
    "tags": []
   },
   "outputs": [
    {
     "ename": "ModuleNotFoundError",
     "evalue": "No module named 'runbook'",
     "output_type": "error",
     "traceback": [
      "\u001b[0;31m---------------------------------------------------------------------------\u001b[0m",
      "\u001b[0;31mModuleNotFoundError\u001b[0m                       Traceback (most recent call last)",
      "Cell \u001b[0;32mIn[2], line 2\u001b[0m\n\u001b[1;32m      1\u001b[0m \u001b[38;5;66;03m# SHELL HELPERS\u001b[39;00m\n\u001b[0;32m----> 2\u001b[0m \u001b[38;5;28;01mfrom\u001b[39;00m \u001b[38;5;21;01mrunbook\u001b[39;00m\u001b[38;5;21;01m.\u001b[39;00m\u001b[38;5;21;01mshell\u001b[39;00m \u001b[38;5;28;01mimport\u001b[39;00m shell_builder, gather, confirm, style\n\u001b[1;32m      3\u001b[0m sh \u001b[38;5;241m=\u001b[39m shell_builder(dry_run,  tags_default\u001b[38;5;241m=\u001b[39m{\u001b[38;5;124m'\u001b[39m\u001b[38;5;124menvironment\u001b[39m\u001b[38;5;124m'\u001b[39m: \u001b[38;5;124m'\u001b[39m\u001b[38;5;124mtesting\u001b[39m\u001b[38;5;124m'\u001b[39m}, confirm_default\u001b[38;5;241m=\u001b[39m\u001b[38;5;28;01mTrue\u001b[39;00m)\n",
      "\u001b[0;31mModuleNotFoundError\u001b[0m: No module named 'runbook'"
     ]
    }
   ],
   "source": [
    "# SHELL HELPERS\n",
    "from runbook.shell import shell_builder, gather, confirm, style\n",
    "\n",
    "sh = shell_builder(\n",
    "    dry_run, tags_default={\"environment\": \"testing\"}, confirm_default=True\n",
    ")"
   ]
  },
  {
   "cell_type": "code",
   "execution_count": 5,
   "id": "b60b6e71-13da-40d3-9a74-016f75fbaf46",
   "metadata": {
    "editable": true,
    "execution": {
     "iopub.execute_input": "2024-01-28T20:28:28.498136Z",
     "iopub.status.busy": "2024-01-28T20:28:28.497629Z",
     "iopub.status.idle": "2024-01-28T20:28:28.562916Z",
     "shell.execute_reply": "2024-01-28T20:28:28.562581Z",
     "shell.execute_reply.started": "2024-01-28T20:28:28.498109Z"
    },
    "slideshow": {
     "slide_type": ""
    },
    "tags": []
   },
   "outputs": [
    {
     "data": {
      "application/vnd.jupyter.widget-view+json": {
       "model_id": "64f5daa8c37c4829bdbafa0a87d15259",
       "version_major": 2,
       "version_minor": 0
      },
      "text/plain": [
       "Dropdown(description='Environment:', index=2, options=(('Production', 1), ('Staging', 2), ('Development', 3)),…"
      ]
     },
     "metadata": {},
     "output_type": "display_data"
    },
    {
     "data": {
      "application/vnd.jupyter.widget-view+json": {
       "model_id": "7a1c0249406043af9bd656fb4e8ae8ff",
       "version_major": 2,
       "version_minor": 0
      },
      "text/plain": [
       "Dropdown(description='Database:', index=1, options=('Mysql', 'Redis', 'Memcached'), value='Redis')"
      ]
     },
     "metadata": {},
     "output_type": "display_data"
    }
   ],
   "source": [
    "# Widgets\n",
    "import ipywidgets as widgets\n",
    "from IPython.display import display\n",
    "\n",
    "w = widgets.Dropdown(\n",
    "    options=[(\"Production\", 1), (\"Staging\", 2), (\"Development\", 3)],\n",
    "    value=3,\n",
    "    description=\"Environment:\",\n",
    ")\n",
    "\n",
    "v = widgets.Dropdown(\n",
    "    options=[\"Mysql\", \"Redis\", \"Memcached\"],\n",
    "    value=\"Redis\",\n",
    "    description=\"Database:\",\n",
    ")\n",
    "display(w)\n",
    "display(v)"
   ]
  },
  {
   "cell_type": "code",
   "execution_count": 6,
   "id": "79b18076-340f-42d3-a021-96a661de7e3a",
   "metadata": {
    "execution": {
     "iopub.execute_input": "2024-01-28T20:28:31.125335Z",
     "iopub.status.busy": "2024-01-28T20:28:31.124769Z",
     "iopub.status.idle": "2024-01-28T20:28:31.131436Z",
     "shell.execute_reply": "2024-01-28T20:28:31.130908Z",
     "shell.execute_reply.started": "2024-01-28T20:28:31.125309Z"
    }
   },
   "outputs": [
    {
     "name": "stdout",
     "output_type": "stream",
     "text": [
      "Value of widget: 3 Redis\n"
     ]
    }
   ],
   "source": [
    "print(f\"Value of widget: {w.value} {v.value}\")"
   ]
  },
  {
   "cell_type": "markdown",
   "id": "f7610298",
   "metadata": {
    "editable": true,
    "slideshow": {
     "slide_type": ""
    },
    "tags": []
   },
   "source": [
    "## Operation"
   ]
  },
  {
   "cell_type": "markdown",
   "id": "adf2dc3c",
   "metadata": {},
   "source": [
    "### Step 1 - Get git info"
   ]
  },
  {
   "cell_type": "code",
   "execution_count": 7,
   "id": "6ee12661-62b8-43b7-b557-2acc9a346d84",
   "metadata": {
    "execution": {
     "iopub.execute_input": "2024-01-28T20:28:34.099939Z",
     "iopub.status.busy": "2024-01-28T20:28:34.099395Z",
     "iopub.status.idle": "2024-01-28T20:29:01.478942Z",
     "shell.execute_reply": "2024-01-28T20:29:01.478337Z",
     "shell.execute_reply.started": "2024-01-28T20:28:34.099912Z"
    }
   },
   "outputs": [
    {
     "name": "stdout",
     "output_type": "stream",
     "text": [
      "Prepared to execute command: echo 'git --version && echo 333 >&2'\n",
      "\u001b[31m\u001b[1mProceed?\u001b[0m [y/N]:"
     ]
    },
    {
     "name": "stdin",
     "output_type": "stream",
     "text": [
      "  y\n"
     ]
    },
    {
     "name": "stdout",
     "output_type": "stream",
     "text": [
      "$ echo 'git --version && echo 333 >&2'\n"
     ]
    }
   ],
   "source": [
    "output = await sh(\"git --version && echo 333 >&2\", confirm=True)"
   ]
  },
  {
   "cell_type": "markdown",
   "id": "82c90614",
   "metadata": {
    "editable": true,
    "slideshow": {
     "slide_type": ""
    },
    "tags": []
   },
   "source": [
    "### Step 2 - Print"
   ]
  },
  {
   "cell_type": "code",
   "execution_count": 8,
   "id": "5c94548f-2197-4de7-b72c-b1feb29bc18c",
   "metadata": {
    "execution": {
     "iopub.execute_input": "2024-01-28T20:29:05.491749Z",
     "iopub.status.busy": "2024-01-28T20:29:05.490997Z",
     "iopub.status.idle": "2024-01-28T20:29:05.500577Z",
     "shell.execute_reply": "2024-01-28T20:29:05.500064Z",
     "shell.execute_reply.started": "2024-01-28T20:29:05.491604Z"
    }
   },
   "outputs": [
    {
     "name": "stdout",
     "output_type": "stream",
     "text": [
      "ShellProcess({'command': 'git --version && echo 333 >&2', 'timestamps': {'start': '2024-01-28T12:29:01.448941', 'end': '2024-01-28T12:29:01.474569', 'duration': '0:00:00.025628'}, 'stdout': '', 'stderr': '', 'stdin': None, 'pid': 95618, 'dry_run': True, 'tags': {'environment': 'testing'}})\n"
     ]
    }
   ],
   "source": [
    "print(output)"
   ]
  },
  {
   "cell_type": "markdown",
   "id": "f0e9eade",
   "metadata": {},
   "source": [
    "<span style='color: red;'><bold>DANGER</bold></span> <span style='color: red;'><bold>DANGER</bold></span> <span style='color: red;'><bold>DANGER</bold></span>  The following code is going to be risky. Be prepared with rollback procedures."
   ]
  },
  {
   "cell_type": "code",
   "execution_count": null,
   "id": "0add2816-a9cb-410c-83f3-a4aad6aaff5f",
   "metadata": {},
   "outputs": [],
   "source": [
    "confirm(style(\"Danger, ready to proceed?\", fg=\"red\", bold=True), abort=True)\n",
    "cmds = [sh(\"sleep 1; echo 1\"), sh(\"sleep 2; echo 2\"), sh(\"sleep 3; echo 3\")]"
   ]
  },
  {
   "cell_type": "code",
   "execution_count": null,
   "id": "ef525b6d-2059-412e-a0cb-c1e908ca54c7",
   "metadata": {},
   "outputs": [],
   "source": [
    "result = await gather(*cmds)"
   ]
  },
  {
   "cell_type": "markdown",
   "id": "74d941f2",
   "metadata": {},
   "source": [
    "## Cleanup"
   ]
  },
  {
   "cell_type": "markdown",
   "id": "d5b16dbe",
   "metadata": {
    "editable": true,
    "slideshow": {
     "slide_type": ""
    },
    "tags": []
   },
   "source": [
    "## Rollback"
   ]
  },
  {
   "cell_type": "markdown",
   "id": "3e3784fc-e073-49a3-a17d-c5f8273394b0",
   "metadata": {
    "editable": true,
    "slideshow": {
     "slide_type": ""
    },
    "tags": []
   },
   "source": [
    "## Action Items / Learnings"
   ]
  },
  {
   "cell_type": "code",
   "execution_count": null,
   "id": "ad7ed51f-7e0f-4c7d-95b3-c73ecdeaa3a8",
   "metadata": {
    "editable": true,
    "slideshow": {
     "slide_type": ""
    },
    "tags": []
   },
   "outputs": [],
   "source": []
  }
 ],
 "metadata": {
  "jupytext": {
   "formats": "ipynb,md:myst"
  },
  "kernelspec": {
   "display_name": "Python 3 (ipykernel)",
   "language": "python",
   "name": "python3"
  },
  "language_info": {
   "codemirror_mode": {
    "name": "ipython",
    "version": 3
   },
   "file_extension": ".py",
   "mimetype": "text/x-python",
   "name": "python",
   "nbconvert_exporter": "python",
   "pygments_lexer": "ipython3",
   "version": "3.8.18"
  },
  "widgets": {
   "application/vnd.jupyter.widget-state+json": {
    "state": {
     "24b63e13cab84f7ba0a4f6d9f038eef4": {
      "model_module": "@jupyter-widgets/controls",
      "model_module_version": "2.0.0",
      "model_name": "DescriptionStyleModel",
      "state": {
       "description_width": ""
      }
     },
     "64f5daa8c37c4829bdbafa0a87d15259": {
      "model_module": "@jupyter-widgets/controls",
      "model_module_version": "2.0.0",
      "model_name": "DropdownModel",
      "state": {
       "_options_labels": [
        "Production",
        "Staging",
        "Development"
       ],
       "description": "Environment:",
       "index": 2,
       "layout": "IPY_MODEL_9e45d38f076140d8987cb40ca9d2bfb0",
       "style": "IPY_MODEL_24b63e13cab84f7ba0a4f6d9f038eef4"
      }
     },
     "7a1c0249406043af9bd656fb4e8ae8ff": {
      "model_module": "@jupyter-widgets/controls",
      "model_module_version": "2.0.0",
      "model_name": "DropdownModel",
      "state": {
       "_options_labels": [
        "Mysql",
        "Redis",
        "Memcached"
       ],
       "description": "Database:",
       "index": 1,
       "layout": "IPY_MODEL_9474749b2a1a4d41aa5aac1a81e58e8c",
       "style": "IPY_MODEL_cf95869f85da48448ea02ebc8b35760f"
      }
     },
     "9474749b2a1a4d41aa5aac1a81e58e8c": {
      "model_module": "@jupyter-widgets/base",
      "model_module_version": "2.0.0",
      "model_name": "LayoutModel",
      "state": {}
     },
     "9e45d38f076140d8987cb40ca9d2bfb0": {
      "model_module": "@jupyter-widgets/base",
      "model_module_version": "2.0.0",
      "model_name": "LayoutModel",
      "state": {}
     },
     "cf95869f85da48448ea02ebc8b35760f": {
      "model_module": "@jupyter-widgets/controls",
      "model_module_version": "2.0.0",
      "model_name": "DescriptionStyleModel",
      "state": {
       "description_width": ""
      }
     }
    },
    "version_major": 2,
    "version_minor": 0
   }
  }
 },
 "nbformat": 4,
 "nbformat_minor": 5
}
