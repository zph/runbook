{
 "cells": [
  {
   "cell_type": "markdown",
   "id": "6ff80734-8906-4f85-9aab-6ceace7ba425",
   "metadata": {
    "editable": true,
    "slideshow": {
     "slide_type": ""
    },
    "tags": []
   },
   "source": [
    "# TITLE\n",
    "\n",
    "## DESCRIPTION\n",
    "\n",
    "Description continues in narrative form"
   ]
  },
  {
   "cell_type": "markdown",
   "id": "05b3e880-8601-4107-9895-d792ba1dcd30",
   "metadata": {
    "editable": true,
    "slideshow": {
     "slide_type": ""
    },
    "tags": []
   },
   "source": [
    "## Setup"
   ]
  },
  {
   "cell_type": "code",
   "execution_count": null,
   "id": "117307e4-e66f-4044-b7e7-914dc0292821",
   "metadata": {
    "editable": true,
    "slideshow": {
     "slide_type": ""
    },
    "tags": [
     "parameters"
    ]
   },
   "outputs": [],
   "source": [
    "// Default Params\n",
    "let server: string = \"main.xargs.io\";\n",
    "let arg: number = 1;\n",
    "let anArray: string[] = [\"a\", \"b\"]; // normally a / b\n",
    "let __RUNBOOK_METADATA__ = {};"
   ]
  },
  {
   "cell_type": "code",
   "execution_count": null,
   "id": "4b3058da",
   "metadata": {
    "editable": true,
    "slideshow": {
     "slide_type": ""
    },
    "tags": []
   },
   "outputs": [],
   "source": [
    "import { $, sh } from \"https://raw.githubusercontent.com/zph/runbook/main/ext/deno/runbook/mod.ts\";"
   ]
  },
  {
   "cell_type": "code",
   "execution_count": null,
   "id": "b27def56-0219-4389-82c7-44c77bab6b19",
   "metadata": {
    "editable": true,
    "slideshow": {
     "slide_type": ""
    },
    "tags": []
   },
   "outputs": [],
   "source": [
    "await sh(\"git log\");"
   ]
  },
  {
   "cell_type": "code",
   "execution_count": 1,
   "id": "9ae59b65",
   "metadata": {
    "execution": {
     "iopub.execute_input": "2024-07-04T22:11:06.713960Z",
     "iopub.status.busy": "2024-07-04T22:11:06.713812Z",
     "iopub.status.idle": "2024-07-04T22:11:09.442208Z",
     "shell.execute_reply": "2024-07-04T22:11:09.435918Z"
    }
   },
   "outputs": [
    {
     "name": "stdout",
     "output_type": "stream",
     "text": [
      "AAAAAAAAAAAA yes\n"
     ]
    },
    {
     "data": {
      "text/plain": [
       "\u001b[32m\"yes\"\u001b[39m"
      ]
     },
     "execution_count": 1,
     "metadata": {},
     "output_type": "execute_result"
    }
   ],
   "source": [
    "prompt(\"AAAAAAAAAAAA\")"
   ]
  },
  {
   "cell_type": "code",
   "execution_count": 1,
   "id": "02a9b324",
   "metadata": {
    "execution": {
     "iopub.execute_input": "2024-07-04T22:11:12.305431Z",
     "iopub.status.busy": "2024-07-04T22:11:12.305244Z",
     "iopub.status.idle": "2024-07-04T22:11:16.543787Z",
     "shell.execute_reply": "2024-07-04T22:11:16.536815Z"
    }
   },
   "outputs": [
    {
     "name": "stdout",
     "output_type": "stream",
     "text": [
      "BBBBBBBBBBBB\n"
     ]
    }
   ],
   "source": [
    "console.log(\"AAAAAAAAAA\")\n",
    "\n",
    "console.log(\"BBBBBBBBBBBB\")"
   ]
  },
  {
   "cell_type": "markdown",
   "id": "b7f15098-d540-4c24-83bc-73f8b81688c7",
   "metadata": {
    "editable": true,
    "slideshow": {
     "slide_type": ""
    },
    "tags": []
   },
   "source": [
    "## Operation"
   ]
  },
  {
   "cell_type": "markdown",
   "id": "a5f85ddd-65e8-4d04-9692-e50724f3a697",
   "metadata": {
    "editable": true,
    "slideshow": {
     "slide_type": ""
    },
    "tags": []
   },
   "source": [
    "### Step 1. Echo JSON"
   ]
  },
  {
   "cell_type": "code",
   "execution_count": null,
   "id": "e774e7ca",
   "metadata": {
    "editable": true,
    "slideshow": {
     "slide_type": ""
    },
    "tags": []
   },
   "outputs": [],
   "source": [
    "await $`echo '{\"a\": 1}'`.json();"
   ]
  },
  {
   "cell_type": "markdown",
   "id": "c97a321e-dbe7-4eda-929b-87fc6aa29052",
   "metadata": {
    "editable": true,
    "slideshow": {
     "slide_type": ""
    },
    "tags": []
   },
   "source": [
    "### Step 2 Get Git Log"
   ]
  },
  {
   "cell_type": "code",
   "execution_count": null,
   "id": "6eed6e46",
   "metadata": {
    "editable": true,
    "slideshow": {
     "slide_type": ""
    },
    "tags": []
   },
   "outputs": [],
   "source": [
    "await $`git log`.text();"
   ]
  },
  {
   "cell_type": "markdown",
   "id": "eca30de0-ba65-43c6-b220-cab0dae363ff",
   "metadata": {
    "editable": true,
    "slideshow": {
     "slide_type": ""
    },
    "tags": []
   },
   "source": [
    "## Rollback"
   ]
  },
  {
   "cell_type": "markdown",
   "id": "fce08404-4eb1-45d3-8f9c-2e5601662962",
   "metadata": {
    "editable": true,
    "slideshow": {
     "slide_type": ""
    },
    "tags": []
   },
   "source": [
    "## Cleanup"
   ]
  },
  {
   "cell_type": "markdown",
   "id": "36cfe462-e424-459b-957a-0e06d231c928",
   "metadata": {
    "editable": true,
    "slideshow": {
     "slide_type": ""
    },
    "tags": []
   },
   "source": [
    "## Action Items / Learnings"
   ]
  }
 ],
 "metadata": {
  "kernelspec": {
   "display_name": "Deno",
   "language": "typescript",
   "name": "deno"
  },
  "language_info": {
   "file_extension": ".ts",
   "mimetype": "text/x.typescript",
   "name": "typescript",
   "nb_converter": "script",
   "pygments_lexer": "typescript",
   "version": "5.4.5"
  },
  "widgets": {
   "application/vnd.jupyter.widget-state+json": {
    "state": {},
    "version_major": 2,
    "version_minor": 0
   }
  }
 },
 "nbformat": 4,
 "nbformat_minor": 5
}
