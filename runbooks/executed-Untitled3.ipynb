{
 "cells": [
  {
   "cell_type": "code",
   "execution_count": 1,
   "id": "19ef6903-2fcd-4bdf-935e-92ce2940b277",
   "metadata": {
    "editable": true,
    "execution": {
     "iopub.execute_input": "2024-01-17T10:12:26.396353Z",
     "iopub.status.busy": "2024-01-17T10:12:26.395673Z",
     "iopub.status.idle": "2024-01-17T10:12:26.402014Z",
     "shell.execute_reply": "2024-01-17T10:12:26.400328Z",
     "shell.execute_reply.started": "2024-01-17T10:12:26.396302Z"
    },
    "slideshow": {
     "slide_type": ""
    },
    "tags": [
     "parameters"
    ]
   },
   "outputs": [],
   "source": [
    "# PARAMETERS DEFAULTS\n",
    "dry_run = False"
   ]
  },
  {
   "cell_type": "code",
   "execution_count": 4,
   "id": "a1db85d5-89a4-4721-837c-2f17f55581eb",
   "metadata": {
    "editable": true,
    "execution": {
     "iopub.execute_input": "2024-01-17T10:12:44.862973Z",
     "iopub.status.busy": "2024-01-17T10:12:44.861988Z",
     "iopub.status.idle": "2024-01-17T10:12:44.887129Z",
     "shell.execute_reply": "2024-01-17T10:12:44.886200Z",
     "shell.execute_reply.started": "2024-01-17T10:12:44.862829Z"
    },
    "slideshow": {
     "slide_type": ""
    },
    "tags": []
   },
   "outputs": [
    {
     "ename": "ModuleNotFoundError",
     "evalue": "No module named 'runbook'",
     "output_type": "error",
     "traceback": [
      "\u001b[0;31m---------------------------------------------------------------------------\u001b[0m",
      "\u001b[0;31mModuleNotFoundError\u001b[0m                       Traceback (most recent call last)",
      "Cell \u001b[0;32mIn[4], line 2\u001b[0m\n\u001b[1;32m      1\u001b[0m \u001b[38;5;66;03m# SHELL HELPERS\u001b[39;00m\n\u001b[0;32m----> 2\u001b[0m \u001b[38;5;28;01mfrom\u001b[39;00m \u001b[38;5;21;01mrunbook\u001b[39;00m\u001b[38;5;21;01m.\u001b[39;00m\u001b[38;5;21;01mshell\u001b[39;00m \u001b[38;5;28;01mimport\u001b[39;00m shell, gather, Q, shell_builder\n\u001b[1;32m      4\u001b[0m sh \u001b[38;5;241m=\u001b[39m shell_builder(dry_run)\n",
      "\u001b[0;31mModuleNotFoundError\u001b[0m: No module named 'runbook'"
     ]
    }
   ],
   "source": [
    "# SHELL HELPERS\n",
    "from runbook.shell import shell, gather, Q, shell_builder\n",
    "\n",
    "sh = shell_builder(dry_run)"
   ]
  },
  {
   "cell_type": "code",
   "execution_count": 3,
   "id": "6ee12661-62b8-43b7-b557-2acc9a346d84",
   "metadata": {
    "editable": true,
    "execution": {
     "iopub.execute_input": "2024-01-17T10:09:32.023121Z",
     "iopub.status.busy": "2024-01-17T10:09:32.022688Z",
     "iopub.status.idle": "2024-01-17T10:09:32.044017Z",
     "shell.execute_reply": "2024-01-17T10:09:32.043703Z"
    },
    "slideshow": {
     "slide_type": ""
    },
    "tags": []
   },
   "outputs": [
    {
     "name": "stdout",
     "output_type": "stream",
     "text": [
      "$ git --version && echo 333 >&2\n"
     ]
    }
   ],
   "source": [
    "output = await sh(\"git --version && echo 333 >&2\")"
   ]
  },
  {
   "cell_type": "code",
   "execution_count": 4,
   "id": "5c94548f-2197-4de7-b72c-b1feb29bc18c",
   "metadata": {
    "editable": true,
    "execution": {
     "iopub.execute_input": "2024-01-17T10:09:37.346277Z",
     "iopub.status.busy": "2024-01-17T10:09:37.345809Z",
     "iopub.status.idle": "2024-01-17T10:09:37.349901Z",
     "shell.execute_reply": "2024-01-17T10:09:37.349434Z"
    },
    "slideshow": {
     "slide_type": ""
    },
    "tags": []
   },
   "outputs": [
    {
     "name": "stdout",
     "output_type": "stream",
     "text": [
      "ShellProcess({'command': 'git --version && echo 333 >&2', 'stdout': 'git version 2.38.1', 'stderr': '333\\n', 'stdin': None, 'pid': 21929, 'dry_run': False})\n"
     ]
    }
   ],
   "source": [
    "print(output)"
   ]
  },
  {
   "cell_type": "code",
   "execution_count": 5,
   "id": "0add2816-a9cb-410c-83f3-a4aad6aaff5f",
   "metadata": {
    "execution": {
     "iopub.execute_input": "2024-01-17T10:10:11.484061Z",
     "iopub.status.busy": "2024-01-17T10:10:11.483589Z",
     "iopub.status.idle": "2024-01-17T10:10:11.487733Z",
     "shell.execute_reply": "2024-01-17T10:10:11.487070Z"
    }
   },
   "outputs": [],
   "source": [
    "cmds = [sh(\"sleep 1; echo 1\\n\\n\"), sh(\"sleep 2; echo 2\"), sh(\"sleep 3; echo 3\")]"
   ]
  },
  {
   "cell_type": "code",
   "execution_count": 6,
   "id": "ef525b6d-2059-412e-a0cb-c1e908ca54c7",
   "metadata": {
    "execution": {
     "iopub.execute_input": "2024-01-17T10:10:14.860344Z",
     "iopub.status.busy": "2024-01-17T10:10:14.859886Z",
     "iopub.status.idle": "2024-01-17T10:10:17.891835Z",
     "shell.execute_reply": "2024-01-17T10:10:17.891050Z"
    }
   },
   "outputs": [
    {
     "name": "stdout",
     "output_type": "stream",
     "text": [
      "$ sleep 1; echo 1\n",
      "\n",
      "\n",
      "$ sleep 2; echo 2\n",
      "$ sleep 3; echo 3\n"
     ]
    }
   ],
   "source": [
    "result = await gather(*cmds)"
   ]
  },
  {
   "cell_type": "code",
   "execution_count": 7,
   "id": "e69e5916-6aa5-4f0b-bbda-fae5580f7ff3",
   "metadata": {
    "execution": {
     "iopub.execute_input": "2024-01-17T10:10:44.934501Z",
     "iopub.status.busy": "2024-01-17T10:10:44.934050Z",
     "iopub.status.idle": "2024-01-17T10:10:44.942353Z",
     "shell.execute_reply": "2024-01-17T10:10:44.941785Z"
    }
   },
   "outputs": [
    {
     "data": {
      "text/plain": [
       "[ShellProcess({'command': 'sleep 1; echo 1\\n\\n', 'stdout': '1', 'stderr': '', 'stdin': None, 'pid': 21997, 'dry_run': False}),\n",
       " ShellProcess({'command': 'sleep 2; echo 2', 'stdout': '2', 'stderr': '', 'stdin': None, 'pid': 21998, 'dry_run': False}),\n",
       " ShellProcess({'command': 'sleep 3; echo 3', 'stdout': '3', 'stderr': '', 'stdin': None, 'pid': 21999, 'dry_run': False})]"
      ]
     },
     "execution_count": 7,
     "metadata": {},
     "output_type": "execute_result"
    }
   ],
   "source": [
    "result"
   ]
  }
 ],
 "metadata": {
  "kernelspec": {
   "display_name": "Python 3 (ipykernel)",
   "language": "python",
   "name": "python3"
  },
  "language_info": {
   "codemirror_mode": {
    "name": "ipython",
    "version": 3
   },
   "file_extension": ".py",
   "mimetype": "text/x-python",
   "name": "python",
   "nbconvert_exporter": "python",
   "pygments_lexer": "ipython3",
   "version": "3.12.1"
  },
  "widgets": {
   "application/vnd.jupyter.widget-state+json": {
    "state": {},
    "version_major": 2,
    "version_minor": 0
   }
  }
 },
 "nbformat": 4,
 "nbformat_minor": 5
}
