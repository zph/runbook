{
 "cells": [
  {
   "cell_type": "markdown",
   "id": "e368013b",
   "metadata": {},
   "source": [
    "# 2024-01-15 - TITLE - Purpose"
   ]
  },
  {
   "cell_type": "markdown",
   "id": "30d9dcb9",
   "metadata": {},
   "source": [
    "## Setup"
   ]
  },
  {
   "cell_type": "code",
   "execution_count": null,
   "id": "19ef6903-2fcd-4bdf-935e-92ce2940b277",
   "metadata": {
    "editable": true,
    "jupyter": {
     "source_hidden": true
    },
    "slideshow": {
     "slide_type": ""
    },
    "tags": [
     "parameters"
    ]
   },
   "outputs": [],
   "source": [
    "# PARAMETERS DEFAULTS\n",
    "dry_run = False"
   ]
  },
  {
   "cell_type": "code",
   "execution_count": null,
   "id": "a1db85d5-89a4-4721-837c-2f17f55581eb",
   "metadata": {
    "editable": true,
    "jupyter": {
     "source_hidden": true
    },
    "slideshow": {
     "slide_type": ""
    },
    "tags": []
   },
   "outputs": [],
   "source": [
    "# SHELL HELPERS\n",
    "from runbook.shell import shell, gather, Q, shell_builder\n",
    "\n",
    "sh = shell_builder(dry_run)"
   ]
  },
  {
   "cell_type": "markdown",
   "id": "f7610298",
   "metadata": {},
   "source": [
    "## Operation"
   ]
  },
  {
   "cell_type": "markdown",
   "id": "adf2dc3c",
   "metadata": {},
   "source": [
    "### Step 1 - Get git info"
   ]
  },
  {
   "cell_type": "code",
   "execution_count": null,
   "id": "6ee12661-62b8-43b7-b557-2acc9a346d84",
   "metadata": {
    "editable": true,
    "jupyter": {
     "source_hidden": true
    },
    "slideshow": {
     "slide_type": ""
    },
    "tags": []
   },
   "outputs": [],
   "source": [
    "output = await sh(\"git --version && echo 333 >&2\")"
   ]
  },
  {
   "cell_type": "markdown",
   "id": "82c90614",
   "metadata": {},
   "source": [
    "### Step 2 - Print"
   ]
  },
  {
   "cell_type": "code",
   "execution_count": null,
   "id": "5c94548f-2197-4de7-b72c-b1feb29bc18c",
   "metadata": {
    "editable": true,
    "jupyter": {
     "source_hidden": true
    },
    "slideshow": {
     "slide_type": ""
    },
    "tags": []
   },
   "outputs": [],
   "source": [
    "print(output)\n",
    "import logging\n",
    "logging.info(\"AAAAAAAA\")"
   ]
  },
  {
   "cell_type": "markdown",
   "id": "f0e9eade",
   "metadata": {},
   "source": [
    "<span style='color: red;'><bold>DANGER</bold></span> <span style='color: red;'><bold>DANGER</bold></span> <span style='color: red;'><bold>DANGER</bold></span>\n",
    "\n",
    "The following code is going to be risky. Be prepared with rollback procedures."
   ]
  },
  {
   "cell_type": "code",
   "execution_count": null,
   "id": "0add2816-a9cb-410c-83f3-a4aad6aaff5f",
   "metadata": {},
   "outputs": [],
   "source": [
    "cmds = [sh(\"sleep 1; echo 1\\n\\n\"), sh(\"sleep 2; echo 2\"), sh(\"sleep 3; echo 3\")]"
   ]
  },
  {
   "cell_type": "code",
   "execution_count": null,
   "id": "ef525b6d-2059-412e-a0cb-c1e908ca54c7",
   "metadata": {},
   "outputs": [],
   "source": [
    "result = await gather(*cmds)"
   ]
  },
  {
   "cell_type": "markdown",
   "id": "74d941f2",
   "metadata": {},
   "source": [
    "## Cleanup"
   ]
  },
  {
   "cell_type": "markdown",
   "id": "d5b16dbe",
   "metadata": {},
   "source": [
    "## Rollback"
   ]
  },
  {
   "cell_type": "code",
   "execution_count": null,
   "id": "0ffc7956-8434-4276-828d-c70150118705",
   "metadata": {
    "jupyter": {
     "source_hidden": true
    }
   },
   "outputs": [],
   "source": []
  }
 ],
 "metadata": {
  "kernelspec": {
   "display_name": "Python 3 (ipykernel)",
   "language": "python",
   "name": "python3"
  },
  "language_info": {
   "codemirror_mode": {
    "name": "ipython",
    "version": 3
   },
   "file_extension": ".py",
   "mimetype": "text/x-python",
   "name": "python",
   "nbconvert_exporter": "python",
   "pygments_lexer": "ipython3",
   "version": "3.12.1"
  },
  "widgets": {
   "application/vnd.jupyter.widget-state+json": {
    "state": {},
    "version_major": 2,
    "version_minor": 0
   }
  }
 },
 "nbformat": 4,
 "nbformat_minor": 5
}
